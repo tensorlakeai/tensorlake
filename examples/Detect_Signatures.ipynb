{
  "nbformat": 4,
  "nbformat_minor": 0,
  "metadata": {
    "colab": {
      "provenance": []
    },
    "kernelspec": {
      "name": "python3",
      "display_name": "Python 3"
    },
    "language_info": {
      "name": "python"
    }
  },
  "cells": [
    {
      "cell_type": "markdown",
      "source": [
        "# Detect Buyer and Seller Signatures with Tensorlake SDK\n",
        "\n",
        "This is a quick example of how to parse a real estate purchase agreement and extract the buyer and seller signatures, names, and signature dates.\n",
        "\n",
        "This notebook pairs with [this example](https://docs.tensorlake.ai/examples/cookbooks/signature-detection/detect-buyer-and-seller-signatures-sdk).\n",
        "Learn more about signature detection with Tensorlake on [our docs](https://docs.tensorlake.ai/document-ingestion/parsing/signature).\n",
        "\n",
        "## Prerequisites\n",
        "Make sure you have a [Tensorlake API key](https://docs.tensorlake.ai/platform/authentication#api-keys)"
      ],
      "metadata": {
        "id": "M9H47F1NjboJ"
      }
    },
    {
      "cell_type": "markdown",
      "source": [
        "## Step 1: Install Tensorlake and set your API key"
      ],
      "metadata": {
        "id": "4Oay76O4GjoS"
      }
    },
    {
      "cell_type": "code",
      "execution_count": null,
      "metadata": {
        "id": "MlU-aXj_bIMe"
      },
      "outputs": [],
      "source": [
        "!pip install tensorlake"
      ]
    },
    {
      "cell_type": "code",
      "source": [
        "%env TENSORLAKE_API_KEY=YOUR_TENSORLAKE_API_KEY"
      ],
      "metadata": {
        "id": "LHVb1mMf8KXw"
      },
      "execution_count": null,
      "outputs": []
    },
    {
      "cell_type": "markdown",
      "source": [
        "### Step 2: Import packages, setup client, and define file path"
      ],
      "metadata": {
        "id": "BEGWaN3wG0jZ"
      }
    },
    {
      "cell_type": "code",
      "source": [
        "import json\n",
        "from pydantic import BaseModel\n",
        "\n",
        "from tensorlake.documentai import (\n",
        "        DocumentAI,\n",
        "        ParseStatus,\n",
        "        ParsingOptions,\n",
        "        StructuredExtractionOptions\n",
        "      )\n",
        "\n",
        "# Initialize the client and add your API Key\n",
        "doc_ai = DocumentAI()\n",
        "\n",
        "# Upload the document\n",
        "file_path = \"https://tlake.link/lease-agreement\""
      ],
      "metadata": {
        "id": "UyikNPMvDq6i"
      },
      "execution_count": null,
      "outputs": []
    },
    {
      "cell_type": "markdown",
      "source": [
        "### Step 3: Define your structured extraction schema"
      ],
      "metadata": {
        "id": "uCJlMx-hG9p1"
      }
    },
    {
      "cell_type": "code",
      "source": [
        "# Create a schema\n",
        "class Buyer(BaseModel):\n",
        "    buyer_name: str\n",
        "    buyer_signature_date: str\n",
        "    buyer_signed: bool\n",
        "\n",
        "class Seller(BaseModel):\n",
        "    seller_name: str\n",
        "    seller_signature_date: str\n",
        "    seller_signed: bool\n",
        "\n",
        "class RealEstateSchema(BaseModel):\n",
        "    buyer: Buyer\n",
        "    seller: Seller\n"
      ],
      "metadata": {
        "id": "Agjmr_21HAlM"
      },
      "execution_count": null,
      "outputs": []
    },
    {
      "cell_type": "markdown",
      "source": [
        "### Step 4: Set your parsing options, and parse"
      ],
      "metadata": {
        "id": "TZytAVZHHCbq"
      }
    },
    {
      "cell_type": "code",
      "source": [
        "real_state_extraction = StructuredExtractionOptions(\n",
        "    schema_name=\"real-estate-schema\",\n",
        "    json_schema=RealEstateSchema\n",
        ")\n",
        "\n",
        "# Configure parsing options\n",
        "parsing_options = ParsingOptions(\n",
        "    signature_detection=True\n",
        ")\n",
        "\n",
        "parse_id = doc_ai.parse(\n",
        "    file=file_path,\n",
        "    parsing_options=parsing_options,\n",
        "    structured_extraction_options=[real_state_extraction],\n",
        ")\n",
        "\n",
        "print(f\"Parse job submitted with ID: {parse_id}\")\n",
        "\n",
        "# Get the result\n",
        "result = doc_ai.wait_for_completion(parse_id)\n",
        "\n",
        "if(result.status == ParseStatus.FAILURE):\n",
        "    print(\"Parse job failed!\")\n",
        "    exit(1)\n",
        "\n",
        "print(\"Successully parsed the document!\")"
      ],
      "metadata": {
        "colab": {
          "base_uri": "https://localhost:8080/"
        },
        "id": "HQ__h7XVHGq_",
        "outputId": "8f8fee81-866b-403b-db61-8978cd16a2d4"
      },
      "execution_count": null,
      "outputs": [
        {
          "output_type": "stream",
          "name": "stdout",
          "text": [
            "Parse job submitted with ID: parse_CNGbHfrQ7t7c7grzTGDk9\n",
            "waiting 5 s…\n",
            "parse status: processing\n",
            "waiting 5 s…\n",
            "parse status: processing\n",
            "waiting 5 s…\n",
            "parse status: processing\n",
            "waiting 5 s…\n",
            "parse status: processing\n",
            "waiting 5 s…\n",
            "parse status: processing\n",
            "waiting 5 s…\n",
            "parse status: successful\n",
            "Successully parsed the document!\n"
          ]
        }
      ]
    },
    {
      "cell_type": "markdown",
      "source": [
        "### Step 5: Print your results"
      ],
      "metadata": {
        "id": "n_1kGdv6HIwd"
      }
    },
    {
      "cell_type": "code",
      "source": [
        "print(\"========Structured Data========\")\n",
        "print(json.dumps(result.structured_data[0].data, indent=2))\n",
        "\n",
        "print(\"\\n\\n\")\n",
        "print(\"========Chunks========\")\n",
        "for chunk in result.chunks:\n",
        "    print(chunk.content)"
      ],
      "metadata": {
        "colab": {
          "base_uri": "https://localhost:8080/"
        },
        "id": "-xg55g_vHKOv",
        "outputId": "289ac4f3-3921-44a4-e848-cab267562084"
      },
      "execution_count": null,
      "outputs": [
        {
          "output_type": "stream",
          "name": "stdout",
          "text": [
            "========Structured Data========\n",
            "{\n",
            "  \"buyer\": {\n",
            "    \"buyer_name\": \"Nova Ellison\",\n",
            "    \"buyer_signature_date\": \"September 10, 2025\",\n",
            "    \"buyer_signed\": true\n",
            "  },\n",
            "  \"seller\": {\n",
            "    \"seller_name\": \"Juno Vega\",\n",
            "    \"seller_signature_date\": \"September 10, 2025\",\n",
            "    \"seller_signed\": true\n",
            "  }\n",
            "}\n",
            "\n",
            "\n",
            "\n",
            "========Chunks========\n",
            "\n",
            "## RESIDENTIAL REAL ESTATE PURCHASE AGREEMENT\n",
            "\n",
            "I. THE PARTIES. This Real Estate Purchase Agreement (\"Agreement\") made on September 20 20 25 , (\"Effective Date\") between:\n",
            "Buyer: Nova Ellison with a mailing address of 123 Tensor Rd, San Francisco, CA 99999 (\"Buyer\"), who agrees to buy, and:\n",
            "Seller: Juno Vega with a mailing address of 456 Lake Rd, San Francisco, CA 99999 (\"Seller\"), who agrees to sell and convey real and personal property as described in Sections II & III.\n",
            "Buyer and Seller are each referred to herein as a \"Party\" and, collectively, as the \"Parties.\"\n",
            "II. LEGAL DESCRIPTION. The real property is a: (check one) [x] - Single-Family Home [ ] - Condominium [ ] - Planned Unit Development (PUD) [ ] - Duplex [ ] - Triplex [ ] - Fourplex [ ] - Other:\n",
            "Street Address: 789 Solution Ln, San Francisco, CA 99999\n",
            "Tax Parcel Information: TX-PL-0987-6543\n",
            "Other Description: 2-story home, 3 bed / 2.5 bath, built 2022\n",
            "III. PERSONAL PROPERTY. In addition to the real property described in Section II, the Seller shall include the following personal property:\n",
            "None.\n",
            "The described real property in Section II and personal property in Section III shall be collectively known as the \"Property.\"\n",
            "IV. EARNEST MONEY. After acceptance by all Parties, the Buyer agrees to make a payment in the amount of $ 10,000 as consideration by September 15 20 25 ,at 10 :00 [x] AM [ ] PM (\"Earnest Money\"). The Earnest Money shall be applied to the Purchase Price at Closing\n",
            "e\n",
            "Buyer's Initials TE\n",
            "Seller's Initials IV. -\n",
            "\n",
            "Page 1 of 10\n",
            "\n",
            "Signature detected\n",
            "\n",
            "Signature detected\n",
            "\n",
            "\n",
            "and subject to the Buyer's ability to perform under the terms of this Agreement. Any Earnest Money accepted [x] is [ ] is not required to be placed in a separate trust or escrow account in accordance with Governing Law.\n",
            "V. PURCHASE PRICE & TERMS. The Buyer agrees to purchase the Property by payment of One Hundred Fifty Thousand US Dollars ($ 150,000 as follows: (check one) [ ] AM [ ] PM. Seller shall [ ] - All Cash Offer. No loan or financing of any kind is required in order to purchase the Property. Buyer shall provide Seller written third (3rd) party documentation verifying sufficient funds to close no later than 20 at : )\n",
            "have three (3) business days after the receipt of such documentation to notify Buyer, in writing, if the verification of funds is not acceptable. If Buyer fails to provide such documentation, or if Seller finds such verification of funds is not acceptable, Seller may terminate this Agreement. Failure of Seller to provide Buyer written notice of objection to such verification shall be considered acceptance of verification of funds.\n",
            "- Bank Financing. The Buyer's ability to purchase the Property is contingent upon the Buyer's ability to obtain financing under the following conditions: (check one) [x] - Conventional Loan [ ] - FHA Loan (Attach Required Addendums) [x] [ ] - VA Loan (Attach Required Addendums) [ ] - Other: .\n",
            "a.) In addition, Buyer agrees, within a reasonable time, to make a good faith loan application with a credible financial institution;\n",
            "b.) If Buyer does not reveal a fact of contingency to the lender and this purchase does not record because of such nondisclosure after initial application, the Buyer shall be in default;\n",
            "c.) On or before September 20\n",
            "20 25 the Buyer will provide the Seller a letter from a credible financial institution verifying a satisfactory credit report, acceptable income, source of down payment, availability of funds to close, and that the loan approval [ ] is [ ] is not contingent on the lease, sale, or recording of another property;\n",
            "d.) In the event the Buyer fails to produce the aforementioned letter or other acceptable verification by the date above in Section V(c), this Agreement may be terminated at the election of the Seller with written notice provided to the Buyer within 3 _days from said date;\n",
            "e\n",
            "Buyer's Initials ME -\n",
            "Seller's Initials\n",
            "J.\n",
            "\n",
            "Page 2 of 10\n",
            "\n",
            "Signature detected\n",
            "\n",
            "Signature detected\n",
            "\n",
            "\n",
            "e.) Buyer must obtain Seller's approval, in writing, to any change to the letter described in Section V(c) regarding the financial institution, type of financing, or allocation of closing costs; and\n",
            "f.) Buyer agrees to pay all fees and satisfy all conditions, in a timely manner, required by the financial institution for processing of the loan application. Buyer agrees the interest rate offered by lender or the availability of any financing program is not a contingency of this Agreement, so long as Buyer qualifies for the financing herein agreed. Availability of any financing program may change at any time. Any licensed real estate agent hired by either Party is not responsible for representations or guarantees as to the availability of any loans, project and/or property approvals or interest rates.\n",
            "[ ] - Seller Financing. Seller agrees to provide financing to the Buyer under the following terms and conditions:\n",
            "a.) Loan Amount: $\n",
            "b.) Down Payment: $\n",
            "c.) Interest Rate (per annum): %\n",
            "d.) Term: [ ] Months [ ] Years\n",
            "e.) Documents: The Buyer shall be required to produce documentation, as required by the Seller, verifying the Buyer's ability to purchase according to the Purchase Price and the terms of the Seller Financing. Therefore, such Seller Financing is contingent upon the Seller's approval of the requested documentation to be provided on or before\n",
            "20 .The Seller shall have until\n",
            "20 to approve the Buyer's documentation. In the event Buyer fails to obtain Seller's approval, this Agreement shall be terminated with the Buyer's Earnest Money being returned within five (5) business days.\n",
            "VI. SALE OF ANOTHER PROPERTY. Buyer's performance under this Agreement: (check one) [x] - Shall not be contingent upon selling another property. [ ] - Shall be contingent upon selling another property with a mailing address of , within days from the Effective Date.\n",
            "VII. CLOSING COSTS. The costs attributed to the Closing of the Property shall be the responsibility of [x] Buyer [ ] Seller [ ] Both Parties. The fees and costs related to the Closing shall include but not be limited to a title search (including the abstract and any owner's title policy), preparation of the deed, transfer\n",
            "e\n",
            "Buyer's Initials ME -\n",
            "Seller's Initials J.\n",
            "\n",
            "Page 3 of 10\n",
            "\n",
            "Signature detected\n",
            "\n",
            "Signature detected\n",
            "\n",
            "\n",
            "taxes, recording fees, and any other costs by the title company that is in standard procedure with conducting the sale of a property.\n",
            "VIII. FUNDS AT CLOSING. Buyer and Seller agree that before the recording can take place, funds provided shall be in one (1) of the following forms: cash, interbank electronic transfer, money order, certified check or cashier's check drawn on a financial institution located in the state of Governing Law, or any above combination that permits the Seller to convert the deposit to cash no later than the next business day.\n",
            "IX. CLOSING DATE. This transaction shall close on October 15 , 2025 ,at 1 :00 [ ] AM\n",
            "[x] PM or earlier at the office of a title company to be agreed upon by the Parties (\"Closing\"). Any extension of the Closing must be agreed upon, in writing, by Buyer and Seller. Real estate taxes, rents, dues, fees, and expenses relating to the Property for the year in which the sale is closed shall be prorated as of the Closing. Taxes due for prior years shall be paid by Seller.\n",
            "X. SURVEY. Buyer may obtain a survey of the Property before the Closing to assure that there are no defects, encroachments, overlaps, boundary line or acreage disputes, or other such matters, that would be disclosed by a survey (\"Survey Problems\"). The cost of the survey shall be paid by the Buyer. Not later than 10 business days prior to the Closing, Buyer shall notify Seller of any Survey Problems which shall be deemed to be a defect in the title to the Property. Seller shall be required to remedy such defects within 5_business days and prior to the Closing.\n",
            "If Seller does not or cannot remedy any such defect(s), Buyer shall have the option of canceling this Agreement, in which case the Earnest Money shall be returned to Buyer.\n",
            "XI. MINERAL RIGHTS. It is agreed and understood that all rights under the soil, including but not limited to water, gas, oil, and mineral rights shall be transferred by the Seller to the Buyer at Closing.\n",
            "XII. TITLE. Seller shall convey title to the property by warranty deed or equivalent. The Property may be subject to restrictions contained on the plat, deed, covenants, conditions, and restrictions, or other documents noted in a Title Search Report. Upon execution of this Agreement by the Parties, Seller will order a Title Search Report, and have it delivered to the Buyer.\n",
            "Upon receipt of the Title Search Report, the Buyer shall have 5 business days to notify the Seller, in writing, of any matters disclosed in the report which are unacceptable to Buyer. Buyer's failure to timely object to the report shall constitute acceptance of the Title Search Report.\n",
            "e\n",
            "Buyer's Initials ME -\n",
            "Seller's Initials, JU.\n",
            "\n",
            "Page 4 of 10\n",
            "\n",
            "Signature detected\n",
            "\n",
            "Signature detected\n",
            "\n",
            "\n",
            "If any objections are made by Buyer regarding the Title Search Report, mortgage loan inspection, or other information that discloses a material defect, the Seller shall have 3 business days from the date the objections were received to correct said matters. If Seller does not remedy any defect discovered by the Title Search Report, Buyer shall have the option of canceling this Agreement, in which case the Earnest Money shall be returned to Buyer.\n",
            "After Closing, Buyer shall receive an owner's standard form policy of title insurance insuring marketable title in the Property to Buyer in the amount of the Purchase Price, free and clear of the objections and all other title exceptions agreed to be removed as part of this transaction.\n",
            "XIII. PROPERTY CONDITION. Seller agrees to maintain the Property in its current condition, subject to ordinary wear and tear, from the time this Agreement comes into effect until the Closing. Buyer recognizes that the Seller, along with any licensed real estate agent(s) involved in this transaction, make no claims as to the validity of any property disclosure information. Buyer is required to perform their own inspections, tests, and investigations to verify any information provided by the Seller. Afterward, the Buyer shall submit copies of all tests and reports to the Seller at no cost.\n",
            "Therefore, Buyer shall hold the right to hire licensed contractors, or other qualified professionals, to further inspect and investigate the Property until October 5 [ ] AM [x] PM. ,\n",
            "2025 ,at 1 :00\n",
            "After all inspections are completed, Buyer shall have until October 10 20 25\n",
            ", at 1 : 00 [ ] AM\n",
            "[x] , PM to present any new property disclosures to the Seller in writing. The Buyer and Seller shall have 3 _business days to reach an agreement over any new property disclosures found by the Buyer. If the Parties cannot come to an agreement, this Agreement shall be terminated with the Earnest Money being returned to the Buyer.\n",
            "If the Buyer fails to have the Property inspected or does not provide the Seller with written notice of the new disclosures on the Property, in accordance with this Agreement, Buyer hereby accepts the Property in its current condition and as described in any disclosure forms presented by the Seller.\n",
            "In the event improvements on the Property are destroyed, compromised, or materially damaged prior to Closing, the Agreement may be terminated at Buyer's option.\n",
            "XIV. SELLER'S INDEMNIFICATION. Except as otherwise stated in this Agreement, after recording, the Buyer shall accept the Property AS IS, WHERE IS, with all defects, latent or otherwise. Neither Seller nor their\n",
            "e\n",
            "Buyer's Initials VE - Seller's Initials JU. -\n",
            "\n",
            "Page 5 of 10\n",
            "\n",
            "Signature detected\n",
            "\n",
            "Signature detected\n",
            "\n",
            "\n",
            "licensed real estate agent(s) or any other agent(s) of the Seller, shall be bound to any representation or warranty of any kind relating in any way to the Property or its condition, quality or quantity, except as specifically set forth in this Agreement or any property disclosure, which contains representations of the Seller only, and which is based upon the best of the Seller's personal knowledge.\n",
            "XV. APPRAISAL. Buyer's performance under this Agreement: (check one)\n",
            "[x] - Shall not be contingent upon the appraisal of the Property being equal to or greater than the agreed upon Purchase Price.\n",
            "[ ] - Shall be contingent upon the appraisal of the Property being equal to or greater than the agreed upon Purchase Price. If the Property does not appraise to at least the amount of the Purchase Price, or if the appraisal discovers lender-required repairs, the Parties shall have business days to re-negotiate this Agreement (\"Negotiation Period\"). In such event the Parties cannot come to an agreement during the Negotiation Period, this Agreement shall terminate with the Earnest Money being returned to the Buyer.\n",
            "XVI. REQUIRED DOCUMENTS. Prior to the Closing, the Parties agree to authorize all necessary documents, in good faith, in order to record the transaction under the conditions required by the recorder, title company, lender, or any other public or private entity.\n",
            "XVII. TERMINATION. In the event this Agreement is terminated, as provided in this Agreement, absent of default, any Earnest Money shall be returned to the Buyer, in-full, within 3 _business days with all parties being relieved of their obligations as set forth herein.\n",
            "XVIII. SEX OFFENDERS. Section 2250 of Title 18, United States Code, makes it a federal offense for sex offenders required to register pursuant to the Sex Offender Registration and Notification Act (SORNA), to knowingly fail to register or update a registration as required. State convicted sex offenders may also be prosecuted under this statute if the sex offender knowingly fails to register or update a registration as required, and engages in interstate travel, foreign travel, or enters, leaves, or resides on an Indian reservation.\n",
            "A sex offender who fails to properly register may face fines and up to ten (10) years in prison. Furthermore, if a sex offender knowingly fails to update or register as required and commits a violent federal crime, he or she may face up to thirty (30) years in prison under this statute. The Buyer may seek more information online by visiting https://www.nsopw.gov/.\n",
            "e\n",
            "Buyer's Initials VE -\n",
            "Seller's Initials JU. -\n",
            "\n",
            "Page 6 of 10\n",
            "\n",
            "Signature detected\n",
            "\n",
            "Signature detected\n",
            "\n",
            "\n",
            "XIX. TIME. Time is of the essence. All understandings between the Parties are incorporated in this Agreement. Its terms are intended by the Parties as a final, complete and exclusive expression of their Agreement with respect to its subject matter and they may not be contradicted by evidence of any prior agreement or contemporaneous oral agreement.\n",
            "XX. BUYER'S DEFAULT. Seller's remedies shall be limited to liquidated damages in the amount of the Earnest Money set forth in Section IV. It is agreed that such payments and things of value are liquidated damages and are Seller's sole and only remedy for Buyer's failure to perform the obligations of this Agreement. The Parties agree that Seller's actual damages in the event of Buyer's default would be difficult to measure, and the amount of the liquidated damages herein provided for is a reasonable estimate of such damages.\n",
            "XXI. SELLER'S DEFAULT. Buyer may elect to treat this Agreement as cancelled, in which case all Earnest Money paid by Buyer hereunder shall be returned and Buyer may recover such damages as may be proper, or Buyer may elect to treat this Agreement as being in full force and effect and Buyer shall have the right to specific performance or damages, or both.\n",
            "XXII. EARNEST MONEY DISPUTE. Notwithstanding any termination of this Agreement, the Parties agree that in the event of any controversy regarding the release of the Earnest Money that the matter shall be submitted to mediation as provided in Section XXIII.\n",
            "XXIII. DISPUTE RESOLUTION. Buyer and Seller agree to mediate any dispute or claim arising out of this Agreement, or in any resulting transaction, before resorting to arbitration or court action.\n",
            "a.) Mediation. If a dispute arises, between or among the Parties, and it is not resolved prior to or after recording, the Parties shall first proceed in good faith to submit the matter to mediation. Costs related to mediation shall be mutually shared between or among the Parties. Unless otherwise agreed in mediation, the Parties retain their rights to proceed to arbitration or litigation.\n",
            "b.) Arbitration. The Parties agree that any dispute or claim in law or equity arising between them out of this Agreement or any resulting transaction, which is not settled through mediation, shall be decided by neutral, binding arbitration. The arbitrator is required to be a retired judge or justice, or an attorney with at least five (5) years of residential real estate law experience unless the Parties mutually agree to a different arbitrator. Under arbitration, the Parties shall have the right to discovery in accordance with Governing Law. Judgment upon the award of the arbitrator(s) may be entered into any court having jurisdiction. Enforcement of this Agreement to arbitrate shall be governed by the Federal Arbitration Act.\n",
            "e\n",
            "Buyer's Initials ne -\n",
            "Seller's Initials JU. -\n",
            "\n",
            "Page 7 of 10\n",
            "\n",
            "Signature detected\n",
            "\n",
            "Signature detected\n",
            "\n",
            "\n",
            "c.) Exclusions. The following matters shall be excluded from the mediation and arbitration: (i) a judicial or non-judicial foreclosure or other action or proceeding to enforce a deed, mortgage or installment land sale contract as defined in accordance with Governing Law; (ii) an unlawful detainer action, forcible entry detainer, eviction action, or equivalent; (iii) the filing or enforcement of a mechanic's lien; and (iv) any matter that is within the jurisdiction of a probate, small claims or bankruptcy court. The filing of a court action to enable the recording of a notice of pending action, for order of attachment, receivership, injunction, or other provisional remedies, shall not constitute a waiver or violation of the mediation and arbitration provisions of this Section.\n",
            "XXIV. GOVERNING LAW. This Agreement shall be interpreted in accordance with the laws in the state of California (\"Governing Law\").\n",
            "XXV. TERMS AND CONDITIONS OF OFFER. This is an offer to purchase the Property in accordance with the above stated terms and conditions of this Agreement. If at least one, but not all, of the Parties initial such pages, a counteroffer is required until an agreement is reached. Seller has the right to continue to offer the Property for sale and to accept any other offer at any time prior to notification of acceptance. If this offer is accepted and Buyer subsequently defaults, Buyer may be responsible for payment of licensed real estate agent(s) compensation. This Agreement and any supplement, addendum or modification, including any copy, may be signed in two or more counterparts, all of which shall constitute one and the same writing.\n",
            "XXVI. BINDING EFFECT. This Agreement shall be for the benefit of, and be binding upon, the Parties, their heirs, successors, legal representatives, and assigns, which therefore, constitutes the entire agreement between the Parties. No modification of this Agreement shall be binding unless signed by both Buyer and Seller.\n",
            "XXVII. SEVERABILITY. In the event any provision or part of this Agreement is found to be invalid or unenforceable, only that particular provision or part so found, and not the entire Agreement, will be inoperative.\n",
            "XXVIII. OFFER EXPIRATION. This offer to purchase the Property as outlined in this Agreement shall be deemed revoked and the Earnest Money shall be returned unless this Agreement is signed by Seller and a copy of this Agreement is personally given to the Buyer by September 10 , 2025 ,at 6 :00 [ ] AM [x] PM.\n",
            "XXIX. ACCEPTANCE. Seller warrants that Seller is the owner of the Property or has the authority to execute this Agreement. Therefore, by the Seller's authorization below, he/she/they accepts the above offer and agrees to sell the Property on the above terms and conditions and agrees to the agency\n",
            "e\n",
            "Buyer's Initials 18. -\n",
            "Seller's Initials JU. -\n",
            "\n",
            "Page 8 of 10\n",
            "\n",
            "Signature detected\n",
            "\n",
            "Signature detected\n",
            "\n",
            "\n",
            "relationships in accordance with any agreement(s) made with licensed real estate agent(s). Seller has read and acknowledges receipt of a copy of this Agreement and authorizes any licensed real estate agent(s) to deliver a signed copy to the Buyer.\n",
            "Delivery may be in any of the following: (i) hand delivery; (ii) email under the condition that the Party transmitting the email receives electronic confirmation that the email was received to the intended recipient; and (iii) by facsimile to the other Party or the other Party's licensee, but only if the transmitting fax machine prints a confirmation that the transmission was successful.\n",
            "XXX. LICENSED REAL ESTATE AGENT(S). If Buyer or Seller have hired the services of licensed real estate agent(s) to perform representation on their behalf, he/she/they shall be entitled to payment for their services as outlined in their separate written agreement.\n",
            "XXXI. DISCLOSURES. It is acknowledged by the Parties that: (check one) [x] - There are no attached addendums or disclosures to this Agreement. [ ] - The following addendums or disclosures are attached to this Agreement: (check all that apply) [ ] - Lead-Based Paint Disclosure Form [ ] - .\n",
            "[ ] - [ ] - .\n",
            "\n",
            "## XXXII. ADDITIONAL TERMS AND CONDITIONS.\n",
            "\n",
            "### Figure \n",
            "None\n",
            "\n",
            "XXXIII. ENTIRE AGREEMENT. This Agreement together with any attached addendums or disclosures shall supersede any and all other prior understandings and agreements, either oral or in writing, between the Parties with respect to the subject matter hereof and shall constitute the sole and only agreements between the Parties with respect to the said Property. All prior negotiations and agreements between the Parties with respect to the Property hereof are merged into this Agreement. Each Party to this Agreement acknowledges that no representations, inducements, promises, or agreements, orally or otherwise, have been made by any Party or by anyone acting on behalf of any Party, which are not embodied in this Agreement and that any agreement, statement or promise that is not contained in this Agreement shall not be valid or binding or of any force or effect.\n",
            "e\n",
            "Buyer's Initials VE -\n",
            "Seller's Initials JU. -\n",
            "\n",
            "Page 9 of 10\n",
            "\n",
            "Signature detected\n",
            "\n",
            "Signature detected\n",
            "\n",
            "\n",
            "XXXIV. EXECUTION.\n",
            "Buyer Signature:\n",
            "Kova Ellison\n",
            "Date:\n",
            "e: September 10, 2025\n",
            "Print Name: Nova Ellison\n",
            "Buyer Signature:\n",
            "Date:\n",
            "Print Name:\n",
            "Seller Signature: Juno Vego\n",
            "Date: September 10, 2025\n",
            "Print Name: Juno Vega\n",
            "Seller Signature:\n",
            "Date:\n",
            "Print Name:\n",
            "Agent Signature: Aster Polaris\n",
            "Date: September 10, 2025\n",
            "Print Name: Aster Polaris - Polaris Group LLC\n",
            "Agent Signature:\n",
            "Date:\n",
            "Print Name:\n",
            "e\n",
            "\n",
            "Page 10 of 10\n",
            "\n",
            "Signature detected\n",
            "\n",
            "Signature detected\n",
            "\n",
            "Signature detected\n",
            "\n",
            "\n",
            "\n"
          ]
        }
      ]
    }
  ]
}